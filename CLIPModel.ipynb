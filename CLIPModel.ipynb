{
 "cells": [
  {
   "cell_type": "code",
   "execution_count": 1,
   "id": "2c88057a-454e-4b37-b538-e80539ddc283",
   "metadata": {
    "tags": []
   },
   "outputs": [],
   "source": [
    "import torch\n",
    "import clip\n",
    "from PIL import Image\n",
    "import os"
   ]
  },
  {
   "cell_type": "code",
   "execution_count": 2,
   "id": "2175edbe-36cf-4668-a018-0e40226e7fd6",
   "metadata": {},
   "outputs": [],
   "source": [
    "model, preprocess = clip.load(\"ViT-B/32\", device=\"cpu\")\n",
    "\n",
    "labels = [\"a photo of a healthy brain\", \"a photo of a diseased brain\"]\n",
    "dataDirectory = \"data\"\n",
    "\n",
    "correct = 0\n",
    "total = 0"
   ]
  },
  {
   "cell_type": "code",
   "execution_count": 3,
   "id": "4d81c4de-f7a1-473b-bc95-523f8de29360",
   "metadata": {
    "tags": []
   },
   "outputs": [],
   "source": [
    "\n",
    "for label in [\"Healthy\", \"Diseased\"]:\n",
    "    folder = os.path.join(dataDirectory, label)\n",
    "    for imgName in os.listdir(folder):\n",
    "        img = preprocess(Image.open(os.path.join(folder, imgName))).unsqueeze(0)\n",
    "\n",
    "        with torch.no_grad():\n",
    "            imageFeatures = model.encode_image(img)\n",
    "            textFeatures = model.encode_text(clip.tokenize(labels))\n",
    "            logitsPerImage = (imageFeatures @ textFeatures.T)\n",
    "            probs = logitsPerImage.softmax(dim=-1).cpu().numpy()\n",
    "\n",
    "        prediction = \"Healthy\" if probs[0][0] > probs[0][1] else \"Diseased\"\n",
    "        if prediction == label:\n",
    "            correct += 1\n",
    "        total += 1"
   ]
  },
  {
   "cell_type": "code",
   "execution_count": 4,
   "id": "d2942580-8b30-49bc-b9a3-1b1809199aac",
   "metadata": {
    "tags": []
   },
   "outputs": [
    {
     "name": "stdout",
     "output_type": "stream",
     "text": [
      "CLIP Accuracy: 0.6065375302663438\n"
     ]
    }
   ],
   "source": [
    "print(\"CLIP Accuracy:\", correct / total)"
   ]
  },
  {
   "cell_type": "code",
   "execution_count": null,
   "id": "ca2cfccd-6f1a-4022-babb-09bc19727f99",
   "metadata": {},
   "outputs": [],
   "source": []
  }
 ],
 "metadata": {
  "kernelspec": {
   "display_name": "Python [conda env:base] *",
   "language": "python",
   "name": "conda-base-py"
  },
  "language_info": {
   "codemirror_mode": {
    "name": "ipython",
    "version": 3
   },
   "file_extension": ".py",
   "mimetype": "text/x-python",
   "name": "python",
   "nbconvert_exporter": "python",
   "pygments_lexer": "ipython3",
   "version": "3.11.5"
  }
 },
 "nbformat": 4,
 "nbformat_minor": 5
}
